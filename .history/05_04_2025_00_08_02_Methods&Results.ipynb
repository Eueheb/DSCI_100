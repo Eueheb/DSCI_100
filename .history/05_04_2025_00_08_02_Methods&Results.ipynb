{
 "cells": [
  {
   "cell_type": "markdown",
   "id": "5e3ce2b2-2811-4244-81bd-e8f268fc7fbe",
   "metadata": {},
   "source": [
    "# Methods & Results"
   ]
  },
  {
   "cell_type": "code",
   "execution_count": null,
   "id": "055bcc21-54eb-4fdc-9d68-1c5850399ed4",
   "metadata": {},
   "outputs": [],
   "source": [
    "library(tidyverse)\n",
    "library(tidymodels)"
   ]
  },
  {
   "cell_type": "code",
   "execution_count": null,
   "id": "fe7c64ab-fd45-41b0-8009-d209b36451b1",
   "metadata": {},
   "outputs": [],
   "source": [
    "players_data <- read_csv(\"data/players.csv\")\n",
    "players_data"
   ]
  },
  {
   "cell_type": "markdown",
   "id": "ba17544f-2b02-4996-8473-1c66724798a6",
   "metadata": {},
   "source": [
    "Our analysis starts by importing the dataset directly from the data folder."
   ]
  },
  {
   "cell_type": "code",
   "execution_count": null,
   "id": "3a21165d-0ce4-4d1f-a551-fa9f1feed2a1",
   "metadata": {},
   "outputs": [],
   "source": [
    "players_tidy <- players_data |>\n",
    "  select (experience, subscribe, played_hours, Age) |>\n",
    "  filter (Age != 17) |>\n",
    "  mutate (experience = as_factor(experience),\n",
    "        subscribe = as_factor(subscribe))\n",
    "head(players_tidy)"
   ]
  },
  {
   "cell_type": "markdown",
   "id": "201232d7-a3bc-4737-a2e9-23688600970f",
   "metadata": {},
   "source": [
    "After loading, the dataset is cleaned and trimmed to include only the relevant variables: experience, subscribe, played_hours, and Age. These variables are likely chosen because they relate closely to user behavior and potential factors influencing subscription decisions. Players aged exactly 17 are removed, possibly because they form a small or unrepresentative group that could introduce noise. Converting experience and subscribe to categorical types ensures that these variables are treated correctly during modeling, especially since subscribe is the outcome we aim to predict."
   ]
  }
 ],
 "metadata": {
  "kernelspec": {
   "display_name": "R",
   "language": "R",
   "name": "ir"
  },
  "language_info": {
   "codemirror_mode": "r",
   "file_extension": ".r",
   "mimetype": "text/x-r-source",
   "name": "R",
   "pygments_lexer": "r",
   "version": "4.3.3"
  }
 },
 "nbformat": 4,
 "nbformat_minor": 5
}

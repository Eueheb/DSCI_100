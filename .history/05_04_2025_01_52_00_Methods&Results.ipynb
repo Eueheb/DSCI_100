{
 "cells": [
  {
   "cell_type": "markdown",
   "id": "5e3ce2b2-2811-4244-81bd-e8f268fc7fbe",
   "metadata": {},
   "source": [
    "# Methods & Results"
   ]
  },
  {
   "cell_type": "code",
   "execution_count": null,
   "id": "055bcc21-54eb-4fdc-9d68-1c5850399ed4",
   "metadata": {},
   "outputs": [],
   "source": [
    "library(tidyverse)\n",
    "library(tidymodels)"
   ]
  },
  {
   "cell_type": "code",
   "execution_count": null,
   "id": "fe7c64ab-fd45-41b0-8009-d209b36451b1",
   "metadata": {},
   "outputs": [],
   "source": [
    "players_data <- read_csv(\"data/players.csv\")\n",
    "players_data"
   ]
  },
  {
   "cell_type": "markdown",
   "id": "ba17544f-2b02-4996-8473-1c66724798a6",
   "metadata": {},
   "source": [
    "Our analysis starts by importing the dataset directly from the data folder."
   ]
  },
  {
   "cell_type": "code",
   "execution_count": null,
   "id": "3a21165d-0ce4-4d1f-a551-fa9f1feed2a1",
   "metadata": {},
   "outputs": [],
   "source": [
    "players_tidy <- players_data |>\n",
    "  select (experience, subscribe, played_hours, Age) |>\n",
    "  filter (Age != 17) |>\n",
    "  mutate (experience = as_factor(experience),\n",
    "        subscribe = as_factor(subscribe))\n",
    "head(players_tidy)"
   ]
  },
  {
   "cell_type": "markdown",
   "id": "201232d7-a3bc-4737-a2e9-23688600970f",
   "metadata": {},
   "source": [
    "After loading, we clean the dataset to include only the relevant variables: experience, subscribe, played_hours, and Age. These variables are chosen because they relate closely to user behavior and potential factors influencing subscription decisions. Players aged exactly 17 are removed, because they form an unrepresentative group that could introduce noise. Converting experience and subscribe to categorical types ensures that these variables are treated correctly during modeling, especially since subscribe is the outcome we aim to predict."
   ]
  },
  {
   "cell_type": "code",
   "execution_count": null,
   "id": "8d9b2b24-84eb-4727-b85c-bfe03e363d00",
   "metadata": {},
   "outputs": [],
   "source": [
    "p1 <- players_tidy |>\n",
    "  ggplot(aes(x = played_hours, fill = subscribe)) +\n",
    "  geom_histogram(binwidth = 5, alpha = 0.7, position = \"identity\") +\n",
    "  labs(title = \"Figure 1: Distribution of Played Hours by Subscription\",\n",
    "       x = \"Played Hours\", y = \"Count\") +\n",
    "  theme_minimal()\n",
    "p1"
   ]
  },
  {
   "cell_type": "code",
   "execution_count": null,
   "id": "c2692585-8cdd-48ab-86a2-16bd50c78230",
   "metadata": {},
   "outputs": [],
   "source": [
    "p2 <- players_tidy |>\n",
    "  ggplot(aes(x = experience, y = played_hours, fill = experience)) +\n",
    "  geom_boxplot() +\n",
    "  labs(title = \"Figure 2: Played Hours by Experience Level\",\n",
    "       x = \"Experience Level\", y = \"Played Hours\") +\n",
    "  theme_minimal()\n",
    "p2"
   ]
  },
  {
   "cell_type": "markdown",
   "id": "fa0b82b3-3506-432d-8129-e46b2aadc4ed",
   "metadata": {},
   "source": [
    "The next step involves visual exploration of the data. A histogram is created to compare how playtime is distributed across subscription statuses. This visualization provides an intuitive way to assess whether more engaged users tend to subscribe and whether there is a pattern that could inform predictions. The bin width is chosen to balance granularity and clarity. A second plot—a boxplot—illustrates how playtime differs across experience levels. This helps us explore whether experience is related to the amount of time spent playing, which might be another indicator of subscription behavior. Both visualizations serve to uncover possible relationships among the variables and the target, guiding feature selection and model expectations."
   ]
  },
  {
   "cell_type": "code",
   "execution_count": null,
   "id": "78a55db1-a9b3-4f5d-8b1a-e7e81b7c155f",
   "metadata": {},
   "outputs": [],
   "source": [
    "set.seed(123)\n",
    "data_split <- initial_split(players_tidy, prop = 0.8, strata = subscribe)\n",
    "train_data <- training(data_split)\n",
    "test_data <- testing(data_split)"
   ]
  },
  {
   "cell_type": "markdown",
   "id": "bfc3cb11-8bc2-4652-9f99-d194a115ccb2",
   "metadata": {},
   "source": [
    "The dataset is then split into training and testing sets with an 80/20 ratio. This ensures enough data is available for training while reserving a portion for final model evaluation. Stratifying by the outcome variable ensures that both subsets have similar class distributions, which is critical for classification tasks to avoid biased or misleading results."
   ]
  },
  {
   "cell_type": "code",
   "execution_count": null,
   "id": "0e70c8b0-729b-4a51-842b-823ae21805d4",
   "metadata": {},
   "outputs": [],
   "source": [
    "knn_recipe <- recipe(subscribe ~ played_hours + Age + experience, data = train_data) |>\n",
    "  step_normalize(all_numeric_predictors()) |>\n",
    "  step_dummy(all_nominal_predictors())"
   ]
  },
  {
   "cell_type": "markdown",
   "id": "ab7ba699-1bd6-4c60-920c-007eb36a1f1a",
   "metadata": {},
   "source": [
    "We then create a preprocessing recipe that outlines how the data should be transformed prior to modeling. Normalizing numeric variables is essential because the model we’re using is sensitive to scale—larger-scale features could dominate smaller ones and distort the distance calculations. Dummy encoding is applied to the experience variable, allowing the categorical levels to be represented in a way the model can interpret and process effectively. This preprocessing ensures the model receives clean, consistent input without hidden biases from scaling or encoding mismatches."
   ]
  }
 ],
 "metadata": {
  "kernelspec": {
   "display_name": "R",
   "language": "R",
   "name": "ir"
  },
  "language_info": {
   "codemirror_mode": "r",
   "file_extension": ".r",
   "mimetype": "text/x-r-source",
   "name": "R",
   "pygments_lexer": "r",
   "version": "4.3.3"
  }
 },
 "nbformat": 4,
 "nbformat_minor": 5
}
